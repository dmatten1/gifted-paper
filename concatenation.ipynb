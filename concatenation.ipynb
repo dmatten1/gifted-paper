{
 "cells": [
  {
   "cell_type": "code",
   "execution_count": 44,
   "metadata": {},
   "outputs": [],
   "source": [
    "#stick together the necessary ones for matching -- masterbuild and curtest\n",
    "import numpy as np\n",
    "import pandas as pd\n",
    "import os\n",
    "import re\n"
   ]
  },
  {
   "cell_type": "code",
   "execution_count": 45,
   "metadata": {},
   "outputs": [
    {
     "name": "stderr",
     "output_type": "stream",
     "text": [
      "/var/folders/dk/2mw0y5w91dggrsnrpxb04jv80000gn/T/ipykernel_28552/1487324793.py:1: DtypeWarning: Columns (0,2) have mixed types. Specify dtype option on import or set low_memory=False.\n",
      "  masterbuild = pd.read_csv(\"data/interim/masterbuild_master.csv\")\n"
     ]
    }
   ],
   "source": [
    "masterbuild = pd.read_csv(\"data/interim/masterbuild_master.csv\")"
   ]
  },
  {
   "cell_type": "code",
   "execution_count": 46,
   "metadata": {},
   "outputs": [],
   "source": [
    "masterbuild[\"grade\"] = pd.to_numeric(masterbuild[\"grade\"], errors=\"coerce\")\n",
    "\n",
    "# Only gifted rows\n",
    "gifted = masterbuild[masterbuild[\"aig\"] != \"N\"].copy()\n",
    "\n",
    "# Earliest gifted grade per student\n",
    "first_gifted = (\n",
    "    gifted.groupby(\"mastid\")[\"grade\"]\n",
    "    .min()\n",
    "    .reset_index()\n",
    "    .rename(columns={\"grade\": \"gifted_grade\"})\n",
    ")\n",
    "\n",
    "# Merge back\n",
    "masterbuild = masterbuild.merge(first_gifted, on=\"mastid\", how=\"left\")\n",
    "\n",
    "# Fill missing with 0\n",
    "masterbuild[\"gifted_grade\"] = masterbuild[\"gifted_grade\"].fillna(0).astype(int)"
   ]
  },
  {
   "cell_type": "code",
   "execution_count": 47,
   "metadata": {},
   "outputs": [],
   "source": [
    "#clean up\n",
    "consistent_lea_ids = (\n",
    "    masterbuild.groupby(\"mastid\")[\"lea\"]\n",
    "    .nunique()\n",
    "    .reset_index()\n",
    "    .query(\"lea == 1\")[\"mastid\"]\n",
    ")\n",
    "\n",
    "masterbuild = masterbuild[masterbuild[\"mastid\"].isin(consistent_lea_ids)]\n",
    "\n",
    "# 2. Drop students with any non-numeric schlcode\n",
    "# Try converting schlcode → numeric, flag failures\n",
    "masterbuild[\"schlcode_numeric\"] = pd.to_numeric(masterbuild[\"schlcode\"], errors=\"coerce\")\n",
    "\n",
    "bad_ids = masterbuild.loc[masterbuild[\"schlcode_numeric\"].isna(), \"mastid\"].unique()\n",
    "masterbuild = masterbuild[~masterbuild[\"mastid\"].isin(bad_ids)]\n",
    "\n",
    "# (Optional: drop helper column)\n",
    "masterbuild = masterbuild.drop(columns=[\"schlcode_numeric\"])\n",
    "\n",
    "masterbuild = masterbuild.sort_values([\"mastid\", \"reporting_year\"], ascending=[True, False])\n",
    "\n",
    "# Drop duplicates, keeping the first (latest reporting_year)\n",
    "masterbuild = masterbuild.drop_duplicates(subset=[\"mastid\"], keep=\"first\")\n",
    "\n",
    "masterbuild = masterbuild.drop(columns=['grade','reporting_year','schlcode'])\n",
    "masterbuild = masterbuild.drop_duplicates()\n",
    "masterbuild = masterbuild.dropna()\n",
    "#should be good"
   ]
  },
  {
   "cell_type": "code",
   "execution_count": 48,
   "metadata": {},
   "outputs": [],
   "source": [
    "#one hot encode\n",
    "masterbuild[\"eds_Y\"] = masterbuild[\"eds\"].map({\"Y\": True, \"N\": False})\n",
    "\n",
    "# 2. Convert sex (M/F) into binary\n",
    "masterbuild[\"sex_M\"] = masterbuild[\"sex\"].map({\"M\": True, \"F\": False})\n",
    "\n",
    "# 3. One-hot encode ethnic\n",
    "ethnic_dummies = pd.get_dummies(masterbuild[\"ethnic\"], prefix=\"ethnic\")\n",
    "\n",
    "# 4. Concatenate back to masterbuild\n",
    "masterbuild = pd.concat([masterbuild, ethnic_dummies], axis=1)\n",
    "\n",
    "masterbuild = masterbuild.drop(columns=['ethnic'])\n",
    "masterbuild = masterbuild.drop(columns=['eds','sex'])\n"
   ]
  },
  {
   "cell_type": "code",
   "execution_count": 49,
   "metadata": {},
   "outputs": [],
   "source": [
    "curtest = pd.read_csv(\"data/interim/curtest_master.csv\")\n",
    "merged = pd.merge(curtest, masterbuild, on=\"mastid\", how=\"inner\")"
   ]
  },
  {
   "cell_type": "code",
   "execution_count": 50,
   "metadata": {},
   "outputs": [],
   "source": [
    "merged = merged.drop(columns=['BIOL','SC05','SC08','MTH1'])"
   ]
  },
  {
   "cell_type": "code",
   "execution_count": 51,
   "metadata": {},
   "outputs": [],
   "source": [
    "test = merged[merged.isna().sum(axis=1) <= 2]\n",
    "forbidden_cols = [c for c in test.columns if c.endswith((\"03\", \"08\"))]\n",
    "\n",
    "# Drop rows where those cols are NaN\n",
    "mask_forbidden = test[forbidden_cols].isna().any(axis=1)\n",
    "test = test[~mask_forbidden]\n",
    "\n",
    "def impute_with_neighbors(df):\n",
    "    df = df.copy()\n",
    "    num_cols = [c for c in df.columns if re.search(r\"\\d{2}$\", c)]  # cols ending in 2 digits\n",
    "    \n",
    "    for col in num_cols:\n",
    "        match = re.search(r\"(.*?)(\\d{2})$\", col)  # split base + number\n",
    "        if not match:\n",
    "            continue\n",
    "        base, num = match.groups()\n",
    "        num = int(num)\n",
    "\n",
    "        # Look for neighbors\n",
    "        prev_col = f\"{base}{num-1:02d}\"\n",
    "        next_col = f\"{base}{num+1:02d}\"\n",
    "\n",
    "        if prev_col in df.columns and next_col in df.columns:\n",
    "            mask = df[col].isna()\n",
    "            df.loc[mask, col] = (\n",
    "                df.loc[mask, [prev_col, next_col]].mean(axis=1, skipna=False)\n",
    "            )\n",
    "    return df\n",
    "\n",
    "# Apply\n",
    "test = impute_with_neighbors(test)\n",
    "test = test.dropna()"
   ]
  },
  {
   "cell_type": "code",
   "execution_count": 55,
   "metadata": {},
   "outputs": [],
   "source": [
    "test.to_csv(\"data/final/test_demo.csv\",index=False)"
   ]
  }
 ],
 "metadata": {
  "kernelspec": {
   "display_name": "sas_env",
   "language": "python",
   "name": "python3"
  },
  "language_info": {
   "codemirror_mode": {
    "name": "ipython",
    "version": 3
   },
   "file_extension": ".py",
   "mimetype": "text/x-python",
   "name": "python",
   "nbconvert_exporter": "python",
   "pygments_lexer": "ipython3",
   "version": "3.10.18"
  }
 },
 "nbformat": 4,
 "nbformat_minor": 2
}
